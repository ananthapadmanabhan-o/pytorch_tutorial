{
 "cells": [
  {
   "cell_type": "code",
   "execution_count": 1,
   "id": "53a0c84e",
   "metadata": {
    "ExecuteTime": {
     "end_time": "2024-07-01T15:54:18.306989Z",
     "start_time": "2024-07-01T15:54:16.432026Z"
    }
   },
   "outputs": [],
   "source": [
    "import torch\n",
    "import torch.nn as nn\n",
    "import torch.nn.functional as F\n",
    "\n",
    "import matplotlib.pyplot as plt\n",
    "import pandas as pd\n",
    "import numpy as np\n",
    "\n",
    "%matplotlib inline"
   ]
  },
  {
   "cell_type": "code",
   "execution_count": 2,
   "id": "d2fb5f87",
   "metadata": {
    "ExecuteTime": {
     "end_time": "2024-07-01T15:54:18.313581Z",
     "start_time": "2024-07-01T15:54:18.309241Z"
    }
   },
   "outputs": [],
   "source": [
    "class Model(nn.Module):\n",
    "    # 4 feature\n",
    "    # 1 target\n",
    "    \n",
    "    def __init__(self,in_features=4,h1=8,h2=8,out_featurs=3):\n",
    "        super().__init__()\n",
    "        self.fc1 = nn.Linear(in_features,h1)\n",
    "        self.fc2 = nn.Linear(h1,h2)\n",
    "        self.out = nn.Linear(h2,out_featurs)\n",
    "        \n",
    "    \n",
    "    def forward(self,x):\n",
    "        x = F.relu(self.fc1(x))\n",
    "        x = F.relu(self.fc2(x))\n",
    "        x = self.out(x)\n",
    "        \n",
    "        return x"
   ]
  },
  {
   "cell_type": "code",
   "execution_count": 3,
   "id": "7d590fc1",
   "metadata": {
    "ExecuteTime": {
     "end_time": "2024-07-01T15:54:18.331262Z",
     "start_time": "2024-07-01T15:54:18.315277Z"
    }
   },
   "outputs": [
    {
     "data": {
      "text/plain": [
       "<torch._C.Generator at 0x7a49af5985d0>"
      ]
     },
     "execution_count": 3,
     "metadata": {},
     "output_type": "execute_result"
    }
   ],
   "source": [
    "torch.manual_seed(42)"
   ]
  },
  {
   "cell_type": "code",
   "execution_count": 4,
   "id": "ddb251d5",
   "metadata": {
    "ExecuteTime": {
     "end_time": "2024-07-01T15:54:18.336968Z",
     "start_time": "2024-07-01T15:54:18.333814Z"
    }
   },
   "outputs": [],
   "source": [
    "model = Model()"
   ]
  },
  {
   "cell_type": "code",
   "execution_count": 5,
   "id": "a416be25",
   "metadata": {
    "ExecuteTime": {
     "end_time": "2024-07-01T15:54:18.457114Z",
     "start_time": "2024-07-01T15:54:18.338392Z"
    }
   },
   "outputs": [
    {
     "data": {
      "text/html": [
       "<div>\n",
       "<style scoped>\n",
       "    .dataframe tbody tr th:only-of-type {\n",
       "        vertical-align: middle;\n",
       "    }\n",
       "\n",
       "    .dataframe tbody tr th {\n",
       "        vertical-align: top;\n",
       "    }\n",
       "\n",
       "    .dataframe thead th {\n",
       "        text-align: right;\n",
       "    }\n",
       "</style>\n",
       "<table border=\"1\" class=\"dataframe\">\n",
       "  <thead>\n",
       "    <tr style=\"text-align: right;\">\n",
       "      <th></th>\n",
       "      <th>sepal_length</th>\n",
       "      <th>sepal_width</th>\n",
       "      <th>petal_length</th>\n",
       "      <th>petal_width</th>\n",
       "      <th>species</th>\n",
       "    </tr>\n",
       "  </thead>\n",
       "  <tbody>\n",
       "    <tr>\n",
       "      <th>0</th>\n",
       "      <td>5.1</td>\n",
       "      <td>3.5</td>\n",
       "      <td>1.4</td>\n",
       "      <td>0.2</td>\n",
       "      <td>setosa</td>\n",
       "    </tr>\n",
       "    <tr>\n",
       "      <th>1</th>\n",
       "      <td>4.9</td>\n",
       "      <td>3.0</td>\n",
       "      <td>1.4</td>\n",
       "      <td>0.2</td>\n",
       "      <td>setosa</td>\n",
       "    </tr>\n",
       "    <tr>\n",
       "      <th>2</th>\n",
       "      <td>4.7</td>\n",
       "      <td>3.2</td>\n",
       "      <td>1.3</td>\n",
       "      <td>0.2</td>\n",
       "      <td>setosa</td>\n",
       "    </tr>\n",
       "    <tr>\n",
       "      <th>3</th>\n",
       "      <td>4.6</td>\n",
       "      <td>3.1</td>\n",
       "      <td>1.5</td>\n",
       "      <td>0.2</td>\n",
       "      <td>setosa</td>\n",
       "    </tr>\n",
       "    <tr>\n",
       "      <th>4</th>\n",
       "      <td>5.0</td>\n",
       "      <td>3.6</td>\n",
       "      <td>1.4</td>\n",
       "      <td>0.2</td>\n",
       "      <td>setosa</td>\n",
       "    </tr>\n",
       "  </tbody>\n",
       "</table>\n",
       "</div>"
      ],
      "text/plain": [
       "   sepal_length  sepal_width  petal_length  petal_width species\n",
       "0           5.1          3.5           1.4          0.2  setosa\n",
       "1           4.9          3.0           1.4          0.2  setosa\n",
       "2           4.7          3.2           1.3          0.2  setosa\n",
       "3           4.6          3.1           1.5          0.2  setosa\n",
       "4           5.0          3.6           1.4          0.2  setosa"
      ]
     },
     "execution_count": 5,
     "metadata": {},
     "output_type": "execute_result"
    }
   ],
   "source": [
    "df = pd.read_csv('https://gist.githubusercontent.com/curran/a08a1080b88344b0c8a7/raw/0e7a9b0a5d22642a06d3d5b9bcbad9890c8ee534/iris.csv')\n",
    "df.head()"
   ]
  },
  {
   "cell_type": "code",
   "execution_count": 6,
   "id": "9455ea59",
   "metadata": {
    "ExecuteTime": {
     "end_time": "2024-07-01T15:54:18.472849Z",
     "start_time": "2024-07-01T15:54:18.460066Z"
    }
   },
   "outputs": [
    {
     "data": {
      "text/plain": [
       "(150, 5)"
      ]
     },
     "execution_count": 6,
     "metadata": {},
     "output_type": "execute_result"
    }
   ],
   "source": [
    "df.shape"
   ]
  },
  {
   "cell_type": "code",
   "execution_count": 7,
   "id": "7d93b973",
   "metadata": {
    "ExecuteTime": {
     "end_time": "2024-07-01T15:54:18.479015Z",
     "start_time": "2024-07-01T15:54:18.474793Z"
    }
   },
   "outputs": [],
   "source": [
    "df['species'] = df['species'].map({'setosa':0.0,'versicolor':1.0,'virginica':2.0})"
   ]
  },
  {
   "cell_type": "code",
   "execution_count": 8,
   "id": "3889b1b3",
   "metadata": {
    "ExecuteTime": {
     "end_time": "2024-07-01T15:54:18.495086Z",
     "start_time": "2024-07-01T15:54:18.481460Z"
    }
   },
   "outputs": [
    {
     "data": {
      "text/html": [
       "<div>\n",
       "<style scoped>\n",
       "    .dataframe tbody tr th:only-of-type {\n",
       "        vertical-align: middle;\n",
       "    }\n",
       "\n",
       "    .dataframe tbody tr th {\n",
       "        vertical-align: top;\n",
       "    }\n",
       "\n",
       "    .dataframe thead th {\n",
       "        text-align: right;\n",
       "    }\n",
       "</style>\n",
       "<table border=\"1\" class=\"dataframe\">\n",
       "  <thead>\n",
       "    <tr style=\"text-align: right;\">\n",
       "      <th></th>\n",
       "      <th>sepal_length</th>\n",
       "      <th>sepal_width</th>\n",
       "      <th>petal_length</th>\n",
       "      <th>petal_width</th>\n",
       "      <th>species</th>\n",
       "    </tr>\n",
       "  </thead>\n",
       "  <tbody>\n",
       "    <tr>\n",
       "      <th>0</th>\n",
       "      <td>5.1</td>\n",
       "      <td>3.5</td>\n",
       "      <td>1.4</td>\n",
       "      <td>0.2</td>\n",
       "      <td>0.0</td>\n",
       "    </tr>\n",
       "    <tr>\n",
       "      <th>1</th>\n",
       "      <td>4.9</td>\n",
       "      <td>3.0</td>\n",
       "      <td>1.4</td>\n",
       "      <td>0.2</td>\n",
       "      <td>0.0</td>\n",
       "    </tr>\n",
       "    <tr>\n",
       "      <th>2</th>\n",
       "      <td>4.7</td>\n",
       "      <td>3.2</td>\n",
       "      <td>1.3</td>\n",
       "      <td>0.2</td>\n",
       "      <td>0.0</td>\n",
       "    </tr>\n",
       "    <tr>\n",
       "      <th>3</th>\n",
       "      <td>4.6</td>\n",
       "      <td>3.1</td>\n",
       "      <td>1.5</td>\n",
       "      <td>0.2</td>\n",
       "      <td>0.0</td>\n",
       "    </tr>\n",
       "    <tr>\n",
       "      <th>4</th>\n",
       "      <td>5.0</td>\n",
       "      <td>3.6</td>\n",
       "      <td>1.4</td>\n",
       "      <td>0.2</td>\n",
       "      <td>0.0</td>\n",
       "    </tr>\n",
       "    <tr>\n",
       "      <th>...</th>\n",
       "      <td>...</td>\n",
       "      <td>...</td>\n",
       "      <td>...</td>\n",
       "      <td>...</td>\n",
       "      <td>...</td>\n",
       "    </tr>\n",
       "    <tr>\n",
       "      <th>145</th>\n",
       "      <td>6.7</td>\n",
       "      <td>3.0</td>\n",
       "      <td>5.2</td>\n",
       "      <td>2.3</td>\n",
       "      <td>2.0</td>\n",
       "    </tr>\n",
       "    <tr>\n",
       "      <th>146</th>\n",
       "      <td>6.3</td>\n",
       "      <td>2.5</td>\n",
       "      <td>5.0</td>\n",
       "      <td>1.9</td>\n",
       "      <td>2.0</td>\n",
       "    </tr>\n",
       "    <tr>\n",
       "      <th>147</th>\n",
       "      <td>6.5</td>\n",
       "      <td>3.0</td>\n",
       "      <td>5.2</td>\n",
       "      <td>2.0</td>\n",
       "      <td>2.0</td>\n",
       "    </tr>\n",
       "    <tr>\n",
       "      <th>148</th>\n",
       "      <td>6.2</td>\n",
       "      <td>3.4</td>\n",
       "      <td>5.4</td>\n",
       "      <td>2.3</td>\n",
       "      <td>2.0</td>\n",
       "    </tr>\n",
       "    <tr>\n",
       "      <th>149</th>\n",
       "      <td>5.9</td>\n",
       "      <td>3.0</td>\n",
       "      <td>5.1</td>\n",
       "      <td>1.8</td>\n",
       "      <td>2.0</td>\n",
       "    </tr>\n",
       "  </tbody>\n",
       "</table>\n",
       "<p>150 rows × 5 columns</p>\n",
       "</div>"
      ],
      "text/plain": [
       "     sepal_length  sepal_width  petal_length  petal_width  species\n",
       "0             5.1          3.5           1.4          0.2      0.0\n",
       "1             4.9          3.0           1.4          0.2      0.0\n",
       "2             4.7          3.2           1.3          0.2      0.0\n",
       "3             4.6          3.1           1.5          0.2      0.0\n",
       "4             5.0          3.6           1.4          0.2      0.0\n",
       "..            ...          ...           ...          ...      ...\n",
       "145           6.7          3.0           5.2          2.3      2.0\n",
       "146           6.3          2.5           5.0          1.9      2.0\n",
       "147           6.5          3.0           5.2          2.0      2.0\n",
       "148           6.2          3.4           5.4          2.3      2.0\n",
       "149           5.9          3.0           5.1          1.8      2.0\n",
       "\n",
       "[150 rows x 5 columns]"
      ]
     },
     "execution_count": 8,
     "metadata": {},
     "output_type": "execute_result"
    }
   ],
   "source": [
    "df"
   ]
  },
  {
   "cell_type": "code",
   "execution_count": 9,
   "id": "10d85fbf",
   "metadata": {
    "ExecuteTime": {
     "end_time": "2024-07-01T15:54:18.500207Z",
     "start_time": "2024-07-01T15:54:18.496745Z"
    }
   },
   "outputs": [],
   "source": [
    "x = df.drop('species',axis=1).values"
   ]
  },
  {
   "cell_type": "code",
   "execution_count": 10,
   "id": "3985e344",
   "metadata": {
    "ExecuteTime": {
     "end_time": "2024-07-01T15:54:18.507331Z",
     "start_time": "2024-07-01T15:54:18.505011Z"
    }
   },
   "outputs": [],
   "source": [
    "y = df['species'].values"
   ]
  },
  {
   "cell_type": "code",
   "execution_count": 11,
   "id": "0f93d917",
   "metadata": {
    "ExecuteTime": {
     "end_time": "2024-07-01T15:54:18.837399Z",
     "start_time": "2024-07-01T15:54:18.509358Z"
    }
   },
   "outputs": [],
   "source": [
    "from sklearn.model_selection import train_test_split\n",
    "\n",
    "\n",
    "x_train, x_test, y_train, y_test = train_test_split(x,y,test_size=0.3,random_state=42)"
   ]
  },
  {
   "cell_type": "code",
   "execution_count": 12,
   "id": "e98f0166",
   "metadata": {
    "ExecuteTime": {
     "end_time": "2024-07-01T15:54:18.843230Z",
     "start_time": "2024-07-01T15:54:18.839210Z"
    }
   },
   "outputs": [
    {
     "data": {
      "text/plain": [
       "((105, 4), (105,))"
      ]
     },
     "execution_count": 12,
     "metadata": {},
     "output_type": "execute_result"
    }
   ],
   "source": [
    "x_train.shape, y_train.shape"
   ]
  },
  {
   "cell_type": "code",
   "execution_count": 13,
   "id": "d7a4e73c",
   "metadata": {
    "ExecuteTime": {
     "end_time": "2024-07-01T15:54:18.848823Z",
     "start_time": "2024-07-01T15:54:18.845492Z"
    }
   },
   "outputs": [],
   "source": [
    "x_train = torch.FloatTensor(x_train)\n",
    "x_test = torch.FloatTensor(x_test)"
   ]
  },
  {
   "cell_type": "code",
   "execution_count": 14,
   "id": "dea21947",
   "metadata": {
    "ExecuteTime": {
     "end_time": "2024-07-01T15:54:18.853871Z",
     "start_time": "2024-07-01T15:54:18.850794Z"
    }
   },
   "outputs": [],
   "source": [
    "y_train = torch.LongTensor(y_train)\n",
    "y_test = torch.LongTensor(y_test)"
   ]
  },
  {
   "cell_type": "code",
   "execution_count": 15,
   "id": "f60431c3",
   "metadata": {
    "ExecuteTime": {
     "end_time": "2024-07-01T15:54:18.859062Z",
     "start_time": "2024-07-01T15:54:18.855780Z"
    },
    "scrolled": true
   },
   "outputs": [
    {
     "data": {
      "text/plain": [
       "<bound method Module.parameters of Model(\n",
       "  (fc1): Linear(in_features=4, out_features=8, bias=True)\n",
       "  (fc2): Linear(in_features=8, out_features=8, bias=True)\n",
       "  (out): Linear(in_features=8, out_features=3, bias=True)\n",
       ")>"
      ]
     },
     "execution_count": 15,
     "metadata": {},
     "output_type": "execute_result"
    }
   ],
   "source": [
    "model.parameters"
   ]
  },
  {
   "cell_type": "code",
   "execution_count": 16,
   "id": "d946a1a0",
   "metadata": {
    "ExecuteTime": {
     "end_time": "2024-07-01T15:54:19.220917Z",
     "start_time": "2024-07-01T15:54:18.860991Z"
    }
   },
   "outputs": [],
   "source": [
    "criterion = nn.CrossEntropyLoss()\n",
    "optimizer = torch.optim.Adam(model.parameters(),lr=0.001)"
   ]
  },
  {
   "cell_type": "code",
   "execution_count": 17,
   "id": "5655bea6",
   "metadata": {
    "ExecuteTime": {
     "end_time": "2024-07-01T15:54:20.076014Z",
     "start_time": "2024-07-01T15:54:19.222786Z"
    }
   },
   "outputs": [
    {
     "name": "stdout",
     "output_type": "stream",
     "text": [
      "Epoch: 100 and loss: 0.9825183749198914\n",
      "Epoch: 200 and loss: 0.6379014253616333\n",
      "Epoch: 300 and loss: 0.32398176193237305\n",
      "Epoch: 400 and loss: 0.17733654379844666\n",
      "Epoch: 500 and loss: 0.11817421019077301\n",
      "Epoch: 600 and loss: 0.09406150877475739\n",
      "Epoch: 700 and loss: 0.08244315534830093\n",
      "Epoch: 800 and loss: 0.07588159292936325\n",
      "Epoch: 900 and loss: 0.07166232913732529\n",
      "Epoch: 1000 and loss: 0.06868875026702881\n"
     ]
    }
   ],
   "source": [
    "epochs = 1000\n",
    "losses = []\n",
    "\n",
    "for i in range(1,epochs+1):\n",
    "    y_pred = model.forward(x_train)\n",
    "    \n",
    "    loss = criterion(y_pred,y_train)\n",
    "    \n",
    "    losses.append(loss.detach().numpy())\n",
    "    \n",
    "    if i%100 == 0:\n",
    "        print(f'Epoch: {i} and loss: {loss}')\n",
    "        \n",
    "    optimizer.zero_grad()\n",
    "    loss.backward()\n",
    "    optimizer.step()"
   ]
  },
  {
   "cell_type": "code",
   "execution_count": 18,
   "id": "d2336bb3",
   "metadata": {
    "ExecuteTime": {
     "end_time": "2024-07-01T15:54:20.241712Z",
     "start_time": "2024-07-01T15:54:20.078147Z"
    }
   },
   "outputs": [
    {
     "data": {
      "image/png": "[encoded data removed]",
      "text/plain": [
       "<Figure size 640x480 with 1 Axes>"
      ]
     },
     "metadata": {},
     "output_type": "display_data"
    }
   ],
   "source": [
    "plt.plot(range(epochs),losses)\n",
    "plt.xlabel('Epochs')\n",
    "plt.ylabel('loss')\n",
    "plt.title('Epoch vs Loss')\n",
    "plt.show()"
   ]
  },
  {
   "cell_type": "code",
   "execution_count": 19,
   "id": "7d66b776",
   "metadata": {
    "ExecuteTime": {
     "end_time": "2024-07-01T15:54:20.248730Z",
     "start_time": "2024-07-01T15:54:20.243123Z"
    }
   },
   "outputs": [
    {
     "data": {
      "text/plain": [
       "tensor(0.0399)"
      ]
     },
     "execution_count": 19,
     "metadata": {},
     "output_type": "execute_result"
    }
   ],
   "source": [
    "with torch.no_grad():\n",
    "    y_eval = model.forward(x_test)\n",
    "    loss = criterion(y_eval,y_test )\n",
    "\n",
    "loss"
   ]
  },
  {
   "cell_type": "code",
   "execution_count": 20,
   "id": "fc420b14",
   "metadata": {
    "ExecuteTime": {
     "end_time": "2024-07-01T15:54:20.271980Z",
     "start_time": "2024-07-01T15:54:20.250466Z"
    }
   },
   "outputs": [
    {
     "name": "stdout",
     "output_type": "stream",
     "text": [
      "1). tensor([-3.2242,  4.2773,  0.3353]) \t 1\n",
      "2). tensor([  6.3928,  -0.4923, -11.9749]) \t 0\n",
      "3). tensor([-10.7229,  -2.1944,  11.7328]) \t 2\n",
      "4). tensor([-3.3016,  4.0699,  0.5291]) \t 1\n",
      "5). tensor([-3.4760,  4.6299,  0.3889]) \t 1\n",
      "6). tensor([  5.9354,  -0.4620, -11.1632]) \t 0\n",
      "7). tensor([-1.0828,  4.2062, -2.6224]) \t 1\n",
      "8). tensor([-5.8132,  2.2400,  4.1341]) \t 2\n",
      "9). tensor([-4.3082,  2.9426,  2.2545]) \t 1\n",
      "10). tensor([-1.7159,  4.8459, -1.7857]) \t 1\n",
      "11). tensor([-5.2231,  2.5815,  3.3270]) \t 2\n",
      "12). tensor([  5.8068,  -0.6275, -10.6289]) \t 0\n",
      "13). tensor([  6.7480,  -0.9118, -12.1756]) \t 0\n",
      "14). tensor([  5.8132,  -0.5473, -10.7179]) \t 0\n",
      "15). tensor([  6.3198,  -0.8341, -11.6422]) \t 0\n",
      "16). tensor([-3.2048,  4.5919,  0.1011]) \t 1\n",
      "17). tensor([-7.8677, -0.2464,  7.6684]) \t 2\n",
      "18). tensor([-1.8714,  4.8408, -1.4191]) \t 1\n",
      "19). tensor([-3.2033,  3.8964,  0.5351]) \t 1\n",
      "20). tensor([-7.7343, -0.2876,  7.5707]) \t 2\n",
      "21). tensor([  5.4452,  -0.4309, -10.2489]) \t 0\n",
      "22). tensor([-4.8280,  2.5746,  2.9418]) \t 2\n",
      "23). tensor([  5.5100,  -0.3811, -10.5142]) \t 0\n",
      "24). tensor([-7.5007, -0.0243,  7.1800]) \t 2\n",
      "25). tensor([-6.7198,  2.6247,  4.7821]) \t 2\n",
      "26). tensor([-6.3780,  1.4346,  5.1816]) \t 2\n",
      "27). tensor([-7.6130,  0.0954,  7.2440]) \t 2\n",
      "28). tensor([-7.8333,  0.1291,  7.4028]) \t 2\n",
      "29). tensor([  5.4741,  -0.4886, -10.2395]) \t 0\n",
      "30). tensor([  5.3522,  -0.3233, -10.1316]) \t 0\n",
      "31). tensor([  6.1757,  -0.9163, -11.1961]) \t 0\n",
      "32). tensor([  7.0584,  -0.9644, -12.9686]) \t 0\n",
      "33). tensor([-2.1652,  5.6825, -1.6830]) \t 1\n",
      "34). tensor([  5.7573,  -0.5700, -10.7345]) \t 0\n",
      "35). tensor([  5.6498,  -0.7949, -10.3506]) \t 0\n",
      "36). tensor([-6.0059,  1.3305,  4.8956]) \t 2\n",
      "37). tensor([-2.5372,  5.3500, -1.0101]) \t 1\n",
      "38). tensor([  6.2649,  -0.7055, -11.5119]) \t 0\n",
      "39). tensor([  6.2989,  -0.8598, -11.4929]) \t 0\n",
      "40). tensor([  6.7184,  -0.9019, -12.2420]) \t 0\n",
      "41). tensor([-6.2862,  0.6566,  5.5564]) \t 2\n",
      "42). tensor([-2.7183,  4.8462, -0.5479]) \t 1\n",
      "43). tensor([-3.0237,  5.0956, -0.3610]) \t 1\n",
      "44). tensor([  6.6860,  -0.9390, -12.2292]) \t 0\n",
      "45). tensor([  6.5717,  -0.7945, -12.0163]) \t 0\n",
      "\n",
      "We got 45 correct\n"
     ]
    }
   ],
   "source": [
    "correct = 0\n",
    "\n",
    "with torch.no_grad():\n",
    "    for i ,data in enumerate(x_test):\n",
    "        y_val = model.forward(data)\n",
    "        print(f'{i+1}). {str(y_val)} \\t {y_test[i]}')\n",
    "        \n",
    "        if y_val.argmax().item() == y_test[i]:\n",
    "            correct +=1\n",
    "        \n",
    "print(f'\\nWe got {correct} correct')"
   ]
  },
  {
   "cell_type": "code",
   "execution_count": 21,
   "id": "fc6f75b7",
   "metadata": {
    "ExecuteTime": {
     "end_time": "2024-07-01T15:54:20.277145Z",
     "start_time": "2024-07-01T15:54:20.273683Z"
    }
   },
   "outputs": [],
   "source": [
    "new_data = torch.tensor([4.5,3,4,0.4])\n",
    "\n",
    "with torch.no_grad():\n",
    "    model(new_data)"
   ]
  }
 ],
 "metadata": {
  "kernelspec": {
   "display_name": "deeplearningenv",
   "language": "python",
   "name": "deeplearningenv"
  },
  "language_info": {
   "codemirror_mode": {
    "name": "ipython",
    "version": 3
   },
   "file_extension": ".py",
   "mimetype": "text/x-python",
   "name": "python",
   "nbconvert_exporter": "python",
   "pygments_lexer": "ipython3",
   "version": "3.10.12"
  }
 },
 "nbformat": 4,
 "nbformat_minor": 5
}
